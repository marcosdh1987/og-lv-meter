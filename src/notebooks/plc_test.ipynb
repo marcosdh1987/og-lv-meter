{
 "cells": [
  {
   "cell_type": "code",
   "execution_count": 1,
   "metadata": {},
   "outputs": [
    {
     "name": "stderr",
     "output_type": "stream",
     "text": [
      "2024-05-05 10:47:17,192 - GenericPLC - INFO - Successful connection attempt 1\n",
      "2024-05-05 10:47:17,192 - GenericPLC - INFO - Successful connection attempt 1\n"
     ]
    },
    {
     "name": "stderr",
     "output_type": "stream",
     "text": [
      "2024-05-05 10:47:17,193 - GenericPLC - INFO - Successful connection attempt 1\n",
      "2024-05-05 10:47:17,193 - GenericPLC - INFO - Successful connection attempt 1\n"
     ]
    },
    {
     "data": {
      "text/plain": [
       "True"
      ]
     },
     "execution_count": 1,
     "metadata": {},
     "output_type": "execute_result"
    }
   ],
   "source": [
    "import sys\n",
    "\n",
    "sys.path.append('../')\n",
    "\n",
    "from modbus_adv_toolbox.generic_plc import GenericPLC\n",
    "\n",
    "#gp = UsrW610(ip_address='192.168.0.54', port=502) # create a UsrW610 object '192.168.0.54', port=48899  #simulator ip_address='127.0.0.1', port=5020\n",
    "\n",
    "plc_device_tcp = GenericPLC(ip_address='192.168.0.239', port=5020)\n",
    "plc_device_tcp._test_connection()"
   ]
  },
  {
   "cell_type": "code",
   "execution_count": 2,
   "metadata": {},
   "outputs": [
    {
     "data": {
      "text/plain": [
       "[48.209999084472656,\n",
       " 1.0,\n",
       " 2.0,\n",
       " 3.0,\n",
       " 4.0,\n",
       " 0.0,\n",
       " 0.0,\n",
       " 0.0,\n",
       " 0.0,\n",
       " -11.0,\n",
       " 35.0,\n",
       " 5.0,\n",
       " 6.0,\n",
       " 7.0,\n",
       " 8.0,\n",
       " 5.0,\n",
       " 9.0,\n",
       " 10.0,\n",
       " 11.0,\n",
       " 12.0,\n",
       " 0.0,\n",
       " 0.0,\n",
       " 0.0,\n",
       " 0.0,\n",
       " 0.0,\n",
       " 0.0,\n",
       " 0.0,\n",
       " 0.0,\n",
       " 0.0,\n",
       " 0.0,\n",
       " 0.0,\n",
       " 0.0,\n",
       " 0.0,\n",
       " 0.0,\n",
       " 0.0,\n",
       " 0.0]"
      ]
     },
     "execution_count": 2,
     "metadata": {},
     "output_type": "execute_result"
    }
   ],
   "source": [
    "plc_device_tcp.read_plc_register(1001)"
   ]
  },
  {
   "cell_type": "code",
   "execution_count": 13,
   "metadata": {},
   "outputs": [
    {
     "data": {
      "text/plain": [
       "[89.81999969482422,\n",
       " 1032.699951171875,\n",
       " 24.790000915527344,\n",
       " 1319.0,\n",
       " 104.0,\n",
       " 5.0,\n",
       " 3027.699951171875,\n",
       " 22.0,\n",
       " 2568.0,\n",
       " 102.0,\n",
       " 6.010000228881836,\n",
       " 94.0,\n",
       " 9.0,\n",
       " 0.0,\n",
       " 0.0,\n",
       " 0.0,\n",
       " 0.0,\n",
       " 0.0,\n",
       " 0.0,\n",
       " 0.0,\n",
       " 0.0,\n",
       " 0.0,\n",
       " 0.0,\n",
       " 0.0,\n",
       " 0.0,\n",
       " 0.0,\n",
       " 0.0,\n",
       " 0.0,\n",
       " 0.0,\n",
       " 0.0]"
      ]
     },
     "execution_count": 13,
     "metadata": {},
     "output_type": "execute_result"
    }
   ],
   "source": [
    "sch_data = acc_device_tcp.read_values()\n",
    "sch_data"
   ]
  },
  {
   "cell_type": "code",
   "execution_count": 14,
   "metadata": {},
   "outputs": [
    {
     "name": "stderr",
     "output_type": "stream",
     "text": [
      "2024-05-05 10:40:03,011 - Modbus-Toolbox-Accutech - INFO - Valor inicial: 89.81999969482422\n",
      "2024-05-05 10:40:03,011 - Modbus-Toolbox-Accutech - INFO - Valor inicial: 89.81999969482422\n",
      "2024-05-05 10:40:03,011 - Modbus-Toolbox-Accutech - INFO - Valor inicial: 89.81999969482422\n"
     ]
    },
    {
     "name": "stderr",
     "output_type": "stream",
     "text": [
      "2024-05-05 10:40:03,011 - Modbus-Toolbox-Accutech - INFO - Valor inicial: 89.81999969482422\n",
      "2024-05-05 10:40:03,011 - Modbus-Toolbox-Accutech - INFO - Valor inicial: 89.81999969482422\n",
      "2024-05-05 10:40:03,011 - Modbus-Toolbox-Accutech - INFO - Valor inicial: 89.81999969482422\n"
     ]
    },
    {
     "data": {
      "text/plain": [
       "[89.81999969482422,\n",
       " 1032.699951171875,\n",
       " 24.790000915527344,\n",
       " 1319.0,\n",
       " 104.0,\n",
       " 5.0,\n",
       " 3027.699951171875,\n",
       " 22.0,\n",
       " 2568.0,\n",
       " 102.0,\n",
       " 6.010000228881836,\n",
       " 94.0,\n",
       " 9.0,\n",
       " 0.0,\n",
       " 0.0,\n",
       " 0.0,\n",
       " 0.0,\n",
       " 0.0,\n",
       " 0.0,\n",
       " 0.0,\n",
       " 0.0,\n",
       " 0.0,\n",
       " 0.0,\n",
       " 0.0,\n",
       " 0.0,\n",
       " 0.0,\n",
       " 0.0,\n",
       " 0.0,\n",
       " 0.0,\n",
       " 0.0]"
      ]
     },
     "execution_count": 14,
     "metadata": {},
     "output_type": "execute_result"
    }
   ],
   "source": [
    "sch_data = acc_device_tcp.read_acc()\n",
    "sch_data"
   ]
  }
 ],
 "metadata": {
  "kernelspec": {
   "display_name": ".venv",
   "language": "python",
   "name": "python3"
  },
  "language_info": {
   "codemirror_mode": {
    "name": "ipython",
    "version": 3
   },
   "file_extension": ".py",
   "mimetype": "text/x-python",
   "name": "python",
   "nbconvert_exporter": "python",
   "pygments_lexer": "ipython3",
   "version": "3.11.4"
  }
 },
 "nbformat": 4,
 "nbformat_minor": 2
}
