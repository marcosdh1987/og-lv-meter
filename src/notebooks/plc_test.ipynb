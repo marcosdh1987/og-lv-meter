{
 "cells": [
  {
   "cell_type": "code",
   "execution_count": 1,
   "metadata": {},
   "outputs": [
    {
     "name": "stderr",
     "output_type": "stream",
     "text": [
      "2024-05-05 19:45:23,733 - GenericPLC - INFO - Successful connection attempt 1\n",
      "2024-05-05 19:45:23,733 - GenericPLC - INFO - Successful connection attempt 1\n",
      "2024-05-05 19:45:23,735 - GenericPLC - INFO - Successful connection attempt 1\n",
      "2024-05-05 19:45:23,735 - GenericPLC - INFO - Successful connection attempt 1\n"
     ]
    },
    {
     "data": {
      "text/plain": [
       "True"
      ]
     },
     "execution_count": 1,
     "metadata": {},
     "output_type": "execute_result"
    }
   ],
   "source": [
    "import sys\n",
    "\n",
    "sys.path.append('../')\n",
    "\n",
    "from modbus_adv_toolbox.generic_plc import GenericPLC\n",
    "\n",
    "#gp = UsrW610(ip_address='192.168.0.54', port=502) # create a UsrW610 object '192.168.0.54', port=48899  #simulator ip_address='127.0.0.1', port=5020\n",
    "\n",
    "plc_device_tcp = GenericPLC(ip_address='192.168.0.239', port=5020)\n",
    "plc_device_tcp._test_connection()"
   ]
  },
  {
   "cell_type": "code",
   "execution_count": 5,
   "metadata": {},
   "outputs": [
    {
     "name": "stderr",
     "output_type": "stream",
     "text": [
      "2024-05-05 19:45:54,384 - GenericPLC - INFO - Registros leídos del PLC ok\n",
      "2024-05-05 19:45:54,384 - GenericPLC - INFO - Registros leídos del PLC ok\n"
     ]
    },
    {
     "name": "stdout",
     "output_type": "stream",
     "text": [
      "[48.959999084472656, 1.0, 2.0, 3.0, 4.0, 0.0, 0.0, 0.0, 0.0, -11.0, 35.0, 5.0, 6.0, 7.0, 8.0, 5.0, 9.0, 10.0, 11.0, 12.0, 0.0, 0.0, 0.0, 0.0, 0.0, 0.0, 0.0, 0.0, 0.0, 0.0, 0.0, 0.0, 0.0, 0.0, 0.0, 34.25]\n"
     ]
    }
   ],
   "source": [
    "print(plc_device_tcp.read_plc_register(start_reg=1001, length=72))"
   ]
  },
  {
   "cell_type": "code",
   "execution_count": 4,
   "metadata": {},
   "outputs": [
    {
     "name": "stderr",
     "output_type": "stream",
     "text": [
      "2024-05-05 19:45:53,212 - GenericPLC - INFO - Valor 34.25 escrito en el PLC, registros 1001 y 1002\n",
      "2024-05-05 19:45:53,212 - GenericPLC - INFO - Valor 34.25 escrito en el PLC, registros 1001 y 1002\n",
      "2024-05-05 19:45:53,212 - GenericPLC - INFO - Valor 34.25 escrito en el PLC, registros 1001 y 1002\n"
     ]
    }
   ],
   "source": [
    "plc_device_tcp.write_single_float(register=1001, value=34.25)"
   ]
  },
  {
   "cell_type": "code",
   "execution_count": 7,
   "metadata": {},
   "outputs": [
    {
     "name": "stderr",
     "output_type": "stream",
     "text": [
      "2024-05-05 19:40:01,815 - GenericPLC - INFO - Registros leídos del PLC ok\n",
      "2024-05-05 19:40:01,815 - GenericPLC - INFO - Registros leídos del PLC ok\n"
     ]
    },
    {
     "data": {
      "text/plain": [
       "[0.0, 0.0, 0.0, 0.0, 2.5918416396151817e-41]"
      ]
     },
     "execution_count": 7,
     "metadata": {},
     "output_type": "execute_result"
    }
   ],
   "source": [
    "plc_device_tcp.read_plc_register(start_reg=1001, length=10)"
   ]
  }
 ],
 "metadata": {
  "kernelspec": {
   "display_name": ".venv",
   "language": "python",
   "name": "python3"
  },
  "language_info": {
   "codemirror_mode": {
    "name": "ipython",
    "version": 3
   },
   "file_extension": ".py",
   "mimetype": "text/x-python",
   "name": "python",
   "nbconvert_exporter": "python",
   "pygments_lexer": "ipython3",
   "version": "3.11.4"
  }
 },
 "nbformat": 4,
 "nbformat_minor": 2
}
