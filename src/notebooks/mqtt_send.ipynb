{
 "cells": [
  {
   "cell_type": "code",
   "execution_count": 1,
   "metadata": {},
   "outputs": [
    {
     "name": "stdout",
     "output_type": "stream",
     "text": [
      "Requirement already satisfied: paho-mqtt in /Users/marcossoto/Documents/projects/og-lv-meter/.venv/lib/python3.7/site-packages (2.1.0)\n"
     ]
    }
   ],
   "source": [
    "!pip install paho-mqtt\n"
   ]
  },
  {
   "cell_type": "code",
   "execution_count": 4,
   "metadata": {},
   "outputs": [
    {
     "name": "stderr",
     "output_type": "stream",
     "text": [
      "/Users/marcossoto/Documents/projects/og-lv-meter/.venv/lib/python3.7/site-packages/ipykernel_launcher.py:7: DeprecationWarning: Callback API version 1 is deprecated, update to latest version\n",
      "  import sys\n"
     ]
    },
    {
     "name": "stdout",
     "output_type": "stream",
     "text": [
      "Publicado: {'timestamp': '2024-07-06 18:52:05', 'variable1': 18.872896302520534, 'variable2': 106.23906412211525}\n",
      "Publicado: {'timestamp': '2024-07-06 18:52:07', 'variable1': 13.85405168194744, 'variable2': 134.49596457779413}\n",
      "Publicado: {'timestamp': '2024-07-06 18:52:09', 'variable1': 23.769097588228924, 'variable2': 157.39178230822262}\n"
     ]
    }
   ],
   "source": [
    "import paho.mqtt.client as mqtt\n",
    "import time\n",
    "import random\n",
    "\n",
    "# Configuración del cliente MQTT\n",
    "broker_address = \"broker.hivemq.com\"  # Usando un broker público para pruebas\n",
    "client = mqtt.Client()  # No especificamos client_id\n",
    "\n",
    "# Conexión al broker\n",
    "client.connect(broker_address, 1883, 60)\n",
    "\n",
    "# Función para simular la publicación de datos\n",
    "def publish_data():\n",
    "    for i in range(3):  # Publica 10 mensajes para pruebas\n",
    "        data = {\n",
    "            \"timestamp\": time.strftime(\"%Y-%m-%d %H:%M:%S\"),\n",
    "            \"variable1\": random.uniform(10.0, 30.0),  # Simulando datos de presión\n",
    "            \"variable2\": random.uniform(100.0, 200.0)  # Simulando datos de temperatura\n",
    "        }\n",
    "        client.publish(\"SCADAPack/474/Data\", str(data))\n",
    "        print(f\"Publicado: {data}\")\n",
    "        time.sleep(2)\n",
    "\n",
    "# Publicación de datos\n",
    "publish_data()\n",
    "\n"
   ]
  },
  {
   "cell_type": "code",
   "execution_count": 7,
   "metadata": {},
   "outputs": [
    {
     "name": "stderr",
     "output_type": "stream",
     "text": [
      "/Users/marcossoto/Documents/projects/og-lv-meter/.venv/lib/python3.7/site-packages/ipykernel_launcher.py:7: DeprecationWarning: Callback API version 1 is deprecated, update to latest version\n",
      "  import sys\n"
     ]
    },
    {
     "name": "stdout",
     "output_type": "stream",
     "text": [
      "Publicado: {'timestamp': '2024-07-06 18:58:01', 'variable1': 17.807338393381478, 'variable2': 127.56482392620107}\n",
      "Publicado: {'timestamp': '2024-07-06 18:58:03', 'variable1': 29.758053228926528, 'variable2': 131.8630269762403}\n",
      "Publicado: {'timestamp': '2024-07-06 18:58:05', 'variable1': 27.291498448077785, 'variable2': 179.86094578275168}\n",
      "Publicado: {'timestamp': '2024-07-06 18:58:07', 'variable1': 19.477811265509846, 'variable2': 152.2533729632004}\n",
      "Publicado: {'timestamp': '2024-07-06 18:58:09', 'variable1': 14.73498698402093, 'variable2': 161.4563841373472}\n",
      "Publicado: {'timestamp': '2024-07-06 18:58:11', 'variable1': 21.66119709441848, 'variable2': 175.09615253226406}\n",
      "Publicado: {'timestamp': '2024-07-06 18:58:13', 'variable1': 22.590716788742725, 'variable2': 155.78418798752685}\n",
      "Publicado: {'timestamp': '2024-07-06 18:58:15', 'variable1': 28.47394717347235, 'variable2': 182.8371645238251}\n",
      "Publicado: {'timestamp': '2024-07-06 18:58:17', 'variable1': 17.928700468237963, 'variable2': 108.70340278636719}\n",
      "Publicado: {'timestamp': '2024-07-06 18:58:19', 'variable1': 10.84252823591709, 'variable2': 144.96666185831631}\n"
     ]
    }
   ],
   "source": [
    "import paho.mqtt.client as mqtt\n",
    "import time\n",
    "import random\n",
    "\n",
    "# Configuración del cliente MQTT\n",
    "broker_address = \"broker.hivemq.com\"\n",
    "client = mqtt.Client()\n",
    "\n",
    "# Conexión al broker\n",
    "client.connect(broker_address, 1883, 60)\n",
    "\n",
    "# Función para simular la publicación de datos\n",
    "def publish_data():\n",
    "    for i in range(10):\n",
    "        data = {\n",
    "            \"timestamp\": time.strftime(\"%Y-%m-%d %H:%M:%S\"),\n",
    "            \"variable1\": random.uniform(10.0, 30.0),\n",
    "            \"variable2\": random.uniform(100.0, 200.0)\n",
    "        }\n",
    "        client.publish(\"SCADAPack/474/Data\", str(data), qos=1, retain=True)\n",
    "        print(f\"Publicado: {data}\")\n",
    "        time.sleep(2)\n",
    "\n",
    "# Publicación de datos\n",
    "publish_data()\n"
   ]
  }
 ],
 "metadata": {
  "kernelspec": {
   "display_name": ".venv",
   "language": "python",
   "name": "python3"
  },
  "language_info": {
   "codemirror_mode": {
    "name": "ipython",
    "version": 3
   },
   "file_extension": ".py",
   "mimetype": "text/x-python",
   "name": "python",
   "nbconvert_exporter": "python",
   "pygments_lexer": "ipython3",
   "version": "3.7.17"
  }
 },
 "nbformat": 4,
 "nbformat_minor": 2
}
