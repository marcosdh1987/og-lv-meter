{
 "cells": [
  {
   "cell_type": "code",
   "execution_count": null,
   "metadata": {},
   "outputs": [],
   "source": []
  },
  {
   "cell_type": "code",
   "execution_count": 1,
   "metadata": {},
   "outputs": [],
   "source": [
    "import sys\n",
    "\n",
    "sys.path.append('../')\n",
    "\n",
    "from modbus_adv_toolbox.wenlen_plc import WenlenPLC\n"
   ]
  },
  {
   "cell_type": "code",
   "execution_count": 2,
   "metadata": {},
   "outputs": [],
   "source": [
    "# Crear una instancia de la clase WenlenPLC\n",
    "plc = WenlenPLC(ip_address='192.168.0.239', port=502)"
   ]
  },
  {
   "cell_type": "code",
   "execution_count": 15,
   "metadata": {},
   "outputs": [
    {
     "name": "stderr",
     "output_type": "stream",
     "text": [
      "2024-07-05 09:33:34,769 - WenlenPLC - INFO - Connection successful\n",
      "2024-07-05 09:33:34,770 - WenlenPLC - DEBUG - Attempting to read 8 discrete inputs starting at 0 with unit 1\n",
      "2024-07-05 09:33:34,775 - WenlenPLC - DEBUG - Attempting to read 8 discrete inputs starting at 1 with unit 1\n",
      "2024-07-05 09:33:34,779 - WenlenPLC - DEBUG - Attempting to read 8 discrete inputs starting at 2 with unit 1\n",
      "2024-07-05 09:33:34,783 - WenlenPLC - DEBUG - Attempting to read 8 discrete inputs starting at 3 with unit 1\n",
      "2024-07-05 09:33:34,787 - WenlenPLC - DEBUG - Attempting to read 8 discrete inputs starting at 4 with unit 1\n",
      "2024-07-05 09:33:34,791 - WenlenPLC - DEBUG - Attempting to read 8 discrete inputs starting at 5 with unit 1\n",
      "2024-07-05 09:33:34,796 - WenlenPLC - DEBUG - Attempting to read 8 discrete inputs starting at 6 with unit 1\n",
      "2024-07-05 09:33:34,800 - WenlenPLC - DEBUG - Attempting to read 8 discrete inputs starting at 7 with unit 1\n",
      "2024-07-05 09:33:34,805 - WenlenPLC - DEBUG - Attempting to read 8 discrete inputs starting at 8 with unit 1\n",
      "2024-07-05 09:33:34,809 - WenlenPLC - DEBUG - Attempting to read 8 discrete inputs starting at 9 with unit 1\n",
      "2024-07-05 09:33:34,813 - WenlenPLC - DEBUG - Attempting to read 8 discrete inputs starting at 10 with unit 1\n",
      "2024-07-05 09:33:34,818 - WenlenPLC - DEBUG - Attempting to read 8 discrete inputs starting at 11 with unit 1\n",
      "2024-07-05 09:33:34,823 - WenlenPLC - DEBUG - Attempting to read 8 discrete inputs starting at 12 with unit 1\n",
      "2024-07-05 09:33:34,828 - WenlenPLC - DEBUG - Attempting to read 8 discrete inputs starting at 13 with unit 1\n",
      "2024-07-05 09:33:34,831 - WenlenPLC - DEBUG - Attempting to read 8 discrete inputs starting at 14 with unit 1\n",
      "2024-07-05 09:33:34,835 - WenlenPLC - DEBUG - Attempting to read 8 discrete inputs starting at 15 with unit 1\n",
      "2024-07-05 09:33:34,839 - WenlenPLC - DEBUG - Attempting to read 8 discrete inputs starting at 16 with unit 1\n",
      "2024-07-05 09:33:34,843 - WenlenPLC - DEBUG - Attempting to read 8 discrete inputs starting at 17 with unit 1\n",
      "2024-07-05 09:33:34,849 - WenlenPLC - DEBUG - Attempting to read 8 discrete inputs starting at 18 with unit 1\n",
      "2024-07-05 09:33:34,855 - WenlenPLC - DEBUG - Attempting to read 8 discrete inputs starting at 19 with unit 1\n",
      "2024-07-05 09:33:34,858 - WenlenPLC - DEBUG - Attempting to read 8 discrete inputs starting at 20 with unit 1\n",
      "2024-07-05 09:33:34,862 - WenlenPLC - DEBUG - Attempting to read 8 discrete inputs starting at 21 with unit 1\n",
      "2024-07-05 09:33:34,866 - WenlenPLC - DEBUG - Attempting to read 8 discrete inputs starting at 22 with unit 1\n",
      "2024-07-05 09:33:34,870 - WenlenPLC - DEBUG - Attempting to read 8 discrete inputs starting at 23 with unit 1\n",
      "2024-07-05 09:33:34,874 - WenlenPLC - DEBUG - Attempting to read 8 discrete inputs starting at 24 with unit 1\n",
      "2024-07-05 09:33:34,879 - WenlenPLC - DEBUG - Attempting to read 8 discrete inputs starting at 25 with unit 1\n",
      "2024-07-05 09:33:34,884 - WenlenPLC - DEBUG - Attempting to read 8 discrete inputs starting at 26 with unit 1\n",
      "2024-07-05 09:33:34,887 - WenlenPLC - DEBUG - Attempting to read 8 discrete inputs starting at 27 with unit 1\n",
      "2024-07-05 09:33:34,891 - WenlenPLC - DEBUG - Attempting to read 8 discrete inputs starting at 28 with unit 1\n",
      "2024-07-05 09:33:34,895 - WenlenPLC - DEBUG - Attempting to read 8 discrete inputs starting at 29 with unit 1\n",
      "2024-07-05 09:33:34,899 - WenlenPLC - DEBUG - Attempting to read 8 discrete inputs starting at 30 with unit 1\n",
      "2024-07-05 09:33:34,903 - WenlenPLC - DEBUG - Attempting to read 8 discrete inputs starting at 31 with unit 1\n",
      "2024-07-05 09:33:34,907 - WenlenPLC - DEBUG - Attempting to read 1 holding registers starting at 0 with unit 1\n",
      "2024-07-05 09:33:34,911 - WenlenPLC - DEBUG - Attempting to read 1 holding registers starting at 1 with unit 1\n",
      "2024-07-05 09:33:34,915 - WenlenPLC - DEBUG - Attempting to read 1 holding registers starting at 2 with unit 1\n",
      "2024-07-05 09:33:34,919 - WenlenPLC - DEBUG - Attempting to read 1 holding registers starting at 3 with unit 1\n",
      "2024-07-05 09:33:34,922 - WenlenPLC - DEBUG - Attempting to read 1 holding registers starting at 4 with unit 1\n",
      "2024-07-05 09:33:34,926 - WenlenPLC - DEBUG - Attempting to read 1 holding registers starting at 5 with unit 1\n",
      "2024-07-05 09:33:34,931 - WenlenPLC - DEBUG - Attempting to read 1 holding registers starting at 6 with unit 1\n",
      "2024-07-05 09:33:34,934 - WenlenPLC - DEBUG - Attempting to read 1 holding registers starting at 7 with unit 1\n",
      "2024-07-05 09:33:34,939 - WenlenPLC - INFO - Connection closed\n"
     ]
    },
    {
     "name": "stdout",
     "output_type": "stream",
     "text": [
      "Boolean Registers (10001-10032): [False, False, False, False, False, False, False, False, False, False, False, False, False, False, False, False, False, False, False, False, False, False, False, False, False, False, False, False, False, False, False, False]\n",
      "Float Registers (40001-40008): [12.33, 56.78, 90.12, 34.56]\n"
     ]
    }
   ],
   "source": [
    "plc.update_ip_and_port(new_ip_address='192.168.0.155', new_port=5020)\n",
    "\n",
    "\n",
    "# Conectar al PLC\n",
    "if plc.connect():\n",
    "    # Leer 32 registros booleanos a partir del registro 10001\n",
    "    boolean_registers = plc.read_boolean_registers(start_reg=10001, count=32)\n",
    "    print(\"Boolean Registers (10001-10032):\", boolean_registers)\n",
    "    \n",
    "    # Leer 4 registros flotantes (8 registros de 16 bits) a partir del registro 40001\n",
    "    float_registers = plc.read_float_registers(start_reg=40001, count=4)\n",
    "    print(\"Float Registers (40001-40008):\", float_registers)\n",
    "    \n",
    "    # Cerrar la conexión\n",
    "    plc.close_connection()\n",
    "else:\n",
    "    print(\"Failed to connect to the PLC\")\n"
   ]
  },
  {
   "cell_type": "code",
   "execution_count": 14,
   "metadata": {},
   "outputs": [
    {
     "name": "stderr",
     "output_type": "stream",
     "text": [
      "2024-07-05 09:33:32,173 - WenlenPLC - INFO - Connection successful\n",
      "2024-07-05 09:33:32,173 - WenlenPLC - DEBUG - Attempting to write discrete inputs starting at 10001 with unit 1\n",
      "2024-07-05 09:33:32,178 - WenlenPLC - INFO - Successfully wrote discrete inputs: [False, True, True, False, True, True, True, False, True, False, True, False, True, False, True, False, True, False, True, False, True, False, True, False, True, False, True, False, True, False, True, False]\n",
      "2024-07-05 09:33:32,179 - WenlenPLC - DEBUG - Attempting to write register at 0 with unit 1\n",
      "2024-07-05 09:33:32,182 - WenlenPLC - INFO - Write register successful\n",
      "2024-07-05 09:33:32,183 - WenlenPLC - DEBUG - Attempting to write register at 1 with unit 1\n",
      "2024-07-05 09:33:32,186 - WenlenPLC - INFO - Write register successful\n",
      "2024-07-05 09:33:32,186 - WenlenPLC - DEBUG - Attempting to write register at 2 with unit 1\n",
      "2024-07-05 09:33:32,190 - WenlenPLC - INFO - Write register successful\n",
      "2024-07-05 09:33:32,190 - WenlenPLC - DEBUG - Attempting to write register at 3 with unit 1\n",
      "2024-07-05 09:33:32,194 - WenlenPLC - INFO - Write register successful\n",
      "2024-07-05 09:33:32,194 - WenlenPLC - DEBUG - Attempting to write register at 4 with unit 1\n",
      "2024-07-05 09:33:32,198 - WenlenPLC - INFO - Write register successful\n",
      "2024-07-05 09:33:32,198 - WenlenPLC - DEBUG - Attempting to write register at 5 with unit 1\n",
      "2024-07-05 09:33:32,203 - WenlenPLC - INFO - Write register successful\n",
      "2024-07-05 09:33:32,204 - WenlenPLC - DEBUG - Attempting to write register at 6 with unit 1\n",
      "2024-07-05 09:33:32,208 - WenlenPLC - INFO - Write register successful\n",
      "2024-07-05 09:33:32,208 - WenlenPLC - DEBUG - Attempting to write register at 7 with unit 1\n",
      "2024-07-05 09:33:32,212 - WenlenPLC - INFO - Write register successful\n",
      "2024-07-05 09:33:32,212 - WenlenPLC - INFO - Connection closed\n"
     ]
    },
    {
     "name": "stdout",
     "output_type": "stream",
     "text": [
      "Write Boolean Registers Success: True\n",
      "Write Float Registers Success: True\n"
     ]
    }
   ],
   "source": [
    "# Conectar al PLC\n",
    "if plc.connect():\n",
    "    # Escribir valores booleanos (32 valores, true o false)\n",
    "    # Escribir valores booleanos (32 valores, true o false)\n",
    "    boolean_values = [False, True, True, False, True, True, True, False, True, False, True, False, True, False, True, False, True, False, True, False, True, False, True, False, True, False, True, False, True, False, True, False]\n",
    "    write_success = plc.write_discrete_inputs(start_reg=10001, values=boolean_values)\n",
    "    print(\"Write Boolean Registers Success:\", write_success)\n",
    "\n",
    "    # Escribir valores flotantes (4 valores)\n",
    "    float_values = [12.34, 56.78, 90.12, 34.56]\n",
    "    write_success_floats = all([plc.write_register(start_reg=0 + 2 * i, value=int(float_values[i])) and plc.write_register(start_reg=0 + 2 * i + 1, value=int((float_values[i] - int(float_values[i])) * 100)) for i in range(len(float_values))])\n",
    "    print(\"Write Float Registers Success:\", write_success_floats)\n",
    "\n",
    "    # Cerrar la conexión\n",
    "    plc.close_connection()\n",
    "else:\n",
    "    print(\"Failed to connect to the PLC\")"
   ]
  },
  {
   "cell_type": "code",
   "execution_count": null,
   "metadata": {},
   "outputs": [],
   "source": []
  }
 ],
 "metadata": {
  "kernelspec": {
   "display_name": ".venv",
   "language": "python",
   "name": "python3"
  },
  "language_info": {
   "codemirror_mode": {
    "name": "ipython",
    "version": 3
   },
   "file_extension": ".py",
   "mimetype": "text/x-python",
   "name": "python",
   "nbconvert_exporter": "python",
   "pygments_lexer": "ipython3",
   "version": "3.7.17"
  }
 },
 "nbformat": 4,
 "nbformat_minor": 2
}
