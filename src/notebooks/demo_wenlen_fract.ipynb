{
 "cells": [
  {
   "cell_type": "code",
   "execution_count": null,
   "metadata": {},
   "outputs": [],
   "source": []
  },
  {
   "cell_type": "code",
   "execution_count": 1,
   "metadata": {},
   "outputs": [],
   "source": [
    "import sys\n",
    "\n",
    "sys.path.append('../')\n",
    "\n",
    "from modbus_adv_toolbox.wenlen_plc import WenlenPLC\n"
   ]
  },
  {
   "cell_type": "code",
   "execution_count": 2,
   "metadata": {},
   "outputs": [],
   "source": [
    "# Crear una instancia de la clase WenlenPLC\n",
    "plc = WenlenPLC(ip_address='192.168.0.239', port=502)"
   ]
  },
  {
   "cell_type": "code",
   "execution_count": 9,
   "metadata": {},
   "outputs": [
    {
     "name": "stderr",
     "output_type": "stream",
     "text": [
      "2024-06-25 15:44:46,509 - WenlenPLC - INFO - Connection successful\n",
      "2024-06-25 15:44:46,511 - WenlenPLC - INFO - Read registers for float 0: [28836, 16709]\n",
      "2024-06-25 15:44:46,511 - WenlenPLC - INFO - Decoded float value 0: 12.34000015258789\n",
      "2024-06-25 15:44:46,512 - WenlenPLC - INFO - Read registers for float 1: [7864, 16995]\n",
      "2024-06-25 15:44:46,513 - WenlenPLC - INFO - Decoded float value 1: 56.779998779296875\n",
      "2024-06-25 15:44:46,514 - WenlenPLC - INFO - Read registers for float 2: [15729, 17076]\n",
      "2024-06-25 15:44:46,514 - WenlenPLC - INFO - Decoded float value 2: 90.12000274658203\n",
      "2024-06-25 15:44:46,515 - WenlenPLC - INFO - Read registers for float 3: [15729, 16906]\n",
      "2024-06-25 15:44:46,515 - WenlenPLC - INFO - Decoded float value 3: 34.560001373291016\n",
      "2024-06-25 15:44:46,516 - WenlenPLC - INFO - Connection closed\n"
     ]
    },
    {
     "name": "stdout",
     "output_type": "stream",
     "text": [
      "Boolean Registers (10001-10032): [True, False, True, False, True, False, True, False, True, False, True, False, True, False, True, False, True, False, True, False, True, False, True, False, True, False, True, False, True, False, True, False]\n",
      "Float Registers (40001-40008): [12.34000015258789, 56.779998779296875, 90.12000274658203, 34.560001373291016]\n"
     ]
    }
   ],
   "source": [
    "plc.update_ip_and_port(new_ip_address='192.168.0.239', new_port=502)\n",
    "\n",
    "\n",
    "# Conectar al PLC\n",
    "if plc.connect():\n",
    "    # Leer 32 registros booleanos a partir del registro 10001\n",
    "    boolean_registers = plc.read_boolean_registers(start_reg=10001, count=32)\n",
    "    print(\"Boolean Registers (10001-10032):\", boolean_registers)\n",
    "    \n",
    "    # Leer 4 registros flotantes (8 registros de 16 bits) a partir del registro 40001\n",
    "    float_registers = plc.read_float_registers(start_reg=40001, count=4)\n",
    "    print(\"Float Registers (40001-40008):\", float_registers)\n",
    "    \n",
    "    # Cerrar la conexión\n",
    "    plc.close_connection()\n",
    "else:\n",
    "    print(\"Failed to connect to the PLC\")\n"
   ]
  },
  {
   "cell_type": "code",
   "execution_count": 6,
   "metadata": {},
   "outputs": [
    {
     "name": "stderr",
     "output_type": "stream",
     "text": [
      "2024-06-25 15:44:18,559 - WenlenPLC - INFO - Connection successful\n",
      "2024-06-25 15:44:18,561 - WenlenPLC - INFO - Writing float value 12.34 to registers starting at 40001: [28836, 16709]\n",
      "2024-06-25 15:44:18,561 - WenlenPLC - INFO - Write result for registers starting at 40001: WriteMultipleRegisterResponse (40000,2)\n",
      "2024-06-25 15:44:18,562 - WenlenPLC - INFO - Writing float value 56.78 to registers starting at 40003: [7864, 16995]\n",
      "2024-06-25 15:44:18,563 - WenlenPLC - INFO - Write result for registers starting at 40003: WriteMultipleRegisterResponse (40002,2)\n",
      "2024-06-25 15:44:18,563 - WenlenPLC - INFO - Writing float value 90.12 to registers starting at 40005: [15729, 17076]\n",
      "2024-06-25 15:44:18,564 - WenlenPLC - INFO - Write result for registers starting at 40005: WriteMultipleRegisterResponse (40004,2)\n",
      "2024-06-25 15:44:18,564 - WenlenPLC - INFO - Writing float value 34.56 to registers starting at 40007: [15729, 16906]\n",
      "2024-06-25 15:44:18,565 - WenlenPLC - INFO - Write result for registers starting at 40007: WriteMultipleRegisterResponse (40006,2)\n",
      "2024-06-25 15:44:18,565 - WenlenPLC - INFO - Connection closed\n"
     ]
    },
    {
     "name": "stdout",
     "output_type": "stream",
     "text": [
      "Write Boolean Registers Success: True\n",
      "Write Float Registers Success: True\n"
     ]
    }
   ],
   "source": [
    "# Conectar al PLC\n",
    "if plc.connect():\n",
    "    # Escribir valores booleanos (32 valores, true o false)\n",
    "    boolean_values = [True, False, True, False, True, False, True, False, True, False, True, False, True, False, True, False, True, False, True, False, True, False, True, False, True, False, True, False, True, False, True, False]\n",
    "    write_success = plc.write_coils(start_reg=10001, values=boolean_values)\n",
    "    print(\"Write Boolean Registers Success:\", write_success)\n",
    "    \n",
    "    # Escribir valores flotantes (4 valores)\n",
    "    float_values = [12.34, 56.78, 90.12, 34.56]\n",
    "    write_success_floats = all([plc.write_register(start_reg=40001 + 2 * i, value=float_values[i]) for i in range(len(float_values))])\n",
    "    print(\"Write Float Registers Success:\", write_success_floats)\n",
    "    \n",
    "    # Cerrar la conexión\n",
    "    plc.close_connection()\n",
    "else:\n",
    "    print(\"Failed to connect to the PLC\")"
   ]
  },
  {
   "cell_type": "code",
   "execution_count": null,
   "metadata": {},
   "outputs": [],
   "source": []
  }
 ],
 "metadata": {
  "kernelspec": {
   "display_name": ".venv",
   "language": "python",
   "name": "python3"
  },
  "language_info": {
   "codemirror_mode": {
    "name": "ipython",
    "version": 3
   },
   "file_extension": ".py",
   "mimetype": "text/x-python",
   "name": "python",
   "nbconvert_exporter": "python",
   "pygments_lexer": "ipython3",
   "version": "3.7.17"
  }
 },
 "nbformat": 4,
 "nbformat_minor": 2
}
