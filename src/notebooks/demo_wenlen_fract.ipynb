{
 "cells": [
  {
   "cell_type": "code",
   "execution_count": null,
   "metadata": {},
   "outputs": [],
   "source": []
  },
  {
   "cell_type": "code",
   "execution_count": 1,
   "metadata": {},
   "outputs": [],
   "source": [
    "import sys\n",
    "\n",
    "sys.path.append('../')\n",
    "\n",
    "from modbus_adv_toolbox.wenlen_plc import WenlenPLC\n"
   ]
  },
  {
   "cell_type": "code",
   "execution_count": 2,
   "metadata": {},
   "outputs": [],
   "source": [
    "# Crear una instancia de la clase WenlenPLC\n",
    "plc = WenlenPLC(ip_address='localhost', port=5020, simulation=True)"
   ]
  },
  {
   "cell_type": "code",
   "execution_count": 7,
   "metadata": {},
   "outputs": [
    {
     "name": "stderr",
     "output_type": "stream",
     "text": [
      "2024-12-27 08:45:19,085 - WenlenPLC - INFO - Connection successful\n",
      "2024-12-27 08:45:19,085 - WenlenPLC - INFO - Simulation enabled, reading discrete inputs instead of coils\n",
      "2024-12-27 08:45:19,086 - WenlenPLC - DEBUG - Attempting to read 64 coils starting at 0 with unit 1\n",
      "2024-12-27 08:45:19,087 - WenlenPLC - DEBUG - Attempting to read 64 coils starting at 0 with unit 1\n",
      "2024-12-27 08:45:19,089 - WenlenPLC - DEBUG - Attempting to read 1 holding registers starting at 0 with unit 1\n",
      "2024-12-27 08:45:19,090 - WenlenPLC - DEBUG - Attempting to read 1 holding registers starting at 1 with unit 1\n",
      "2024-12-27 08:45:19,091 - WenlenPLC - DEBUG - Attempting to read 1 holding registers starting at 2 with unit 1\n",
      "2024-12-27 08:45:19,092 - WenlenPLC - DEBUG - Attempting to read 1 holding registers starting at 3 with unit 1\n",
      "2024-12-27 08:45:19,093 - WenlenPLC - DEBUG - Attempting to read 1 holding registers starting at 4 with unit 1\n",
      "2024-12-27 08:45:19,095 - WenlenPLC - DEBUG - Attempting to read 1 holding registers starting at 5 with unit 1\n",
      "2024-12-27 08:45:19,096 - WenlenPLC - DEBUG - Attempting to read 1 holding registers starting at 6 with unit 1\n",
      "2024-12-27 08:45:19,098 - WenlenPLC - DEBUG - Attempting to read 1 holding registers starting at 7 with unit 1\n",
      "2024-12-27 08:45:19,098 - WenlenPLC - DEBUG - Attempting to read 1 holding registers starting at 8 with unit 1\n",
      "2024-12-27 08:45:19,099 - WenlenPLC - DEBUG - Attempting to read 1 holding registers starting at 9 with unit 1\n",
      "2024-12-27 08:45:19,100 - WenlenPLC - DEBUG - Attempting to read 1 holding registers starting at 10 with unit 1\n",
      "2024-12-27 08:45:19,101 - WenlenPLC - DEBUG - Attempting to read 1 holding registers starting at 11 with unit 1\n",
      "2024-12-27 08:45:19,101 - WenlenPLC - DEBUG - Attempting to read 1 holding registers starting at 12 with unit 1\n",
      "2024-12-27 08:45:19,102 - WenlenPLC - DEBUG - Attempting to read 1 holding registers starting at 13 with unit 1\n",
      "2024-12-27 08:45:19,103 - WenlenPLC - DEBUG - Attempting to read 1 holding registers starting at 14 with unit 1\n",
      "2024-12-27 08:45:19,105 - WenlenPLC - DEBUG - Attempting to read 1 holding registers starting at 15 with unit 1\n",
      "2024-12-27 08:45:19,106 - WenlenPLC - INFO - Connection closed\n"
     ]
    },
    {
     "name": "stdout",
     "output_type": "stream",
     "text": [
      "total de registros:  64\n",
      "Boolean Registers (10001-10129): [False, True, False, True, False, True, False, True, False, True, False, True, False, True, False, True, False, True, False, True, False, True, False, True, False, True, False, True, False, True, False, True, False, True, False, True, False, True, False, True, False, True, False, True, False, True, False, True, False, True, False, True, False, True, False, True, False, True, False, True, False, True, False, True]\n",
      "total de registros:  64\n",
      "Coils (0-63): [False, True, False, True, False, True, False, True, False, True, False, True, False, True, False, True, False, True, False, True, False, True, False, True, False, True, False, True, False, True, False, True, False, True, False, True, False, True, False, True, False, True, False, True, False, True, False, True, False, True, False, True, False, True, False, True, False, True, False, True, False, True, False, True]\n",
      "total de registros:  8\n",
      "Float Registers (40001-40017): [326.32, 271.33, 8.6, 2.6, 654.62, 318.59, 35.73, 43.86]\n"
     ]
    }
   ],
   "source": [
    "# Crear una instancia de la clase WenlenPLC\n",
    "# plc = WenlenPLC(ip_address='localhost', port=5020)\n",
    "\n",
    "# plc.update_ip_and_port(new_ip_address='localhost', new_port=5020)\n",
    "\n",
    "registros_float = 8\n",
    "registros_boolean = 64\n",
    "\n",
    "# Conectar al PLC\n",
    "if plc.connect():\n",
    "    # Leer 32 registros booleanos a partir del registro 10001\n",
    "    boolean_registers = plc.read_boolean_registers(start_reg=10001, count=registros_boolean)\n",
    "    print(\"total de registros: \", len(boolean_registers))\n",
    "    print(f\"Boolean Registers (10001-{(10001+(2*registros_boolean))}):\", boolean_registers)\n",
    "\n",
    "    #read 64 coils\n",
    "    coils = plc.read_coils(start_reg=0, count=64)\n",
    "    print(\"total de registros: \", len(coils))\n",
    "    print(f\"Coils (0-63):\", coils) \n",
    "    # Leer 4 registros flotantes (8 registros de 16 bits) a partir del registro 40001\n",
    "    float_registers = plc.read_float_registers(start_reg=40001, count=registros_float)\n",
    "    print(\"total de registros: \", len(float_registers))\n",
    "    print(f\"Float Registers (40001-{(40001+(2*registros_float))}):\", float_registers)\n",
    "    \n",
    "    # Cerrar la conexión\n",
    "    plc.close_connection()\n",
    "else:\n",
    "    print(\"Failed to connect to the PLC\")\n"
   ]
  },
  {
   "cell_type": "code",
   "execution_count": 6,
   "metadata": {},
   "outputs": [
    {
     "name": "stderr",
     "output_type": "stream",
     "text": [
      "2024-12-27 08:45:16,848 - WenlenPLC - INFO - Connection successful\n",
      "2024-12-27 08:45:16,849 - WenlenPLC - DEBUG - Attempting to write coils starting at 1 with unit 1\n",
      "2024-12-27 08:45:16,850 - WenlenPLC - INFO - Write coils successful\n",
      "2024-12-27 08:45:16,850 - WenlenPLC - DEBUG - Attempting to write register at 0 with unit 1\n",
      "2024-12-27 08:45:16,851 - WenlenPLC - INFO - Write register successful\n",
      "2024-12-27 08:45:16,852 - WenlenPLC - DEBUG - Attempting to write register at 1 with unit 1\n",
      "2024-12-27 08:45:16,853 - WenlenPLC - INFO - Write register successful\n",
      "2024-12-27 08:45:16,853 - WenlenPLC - DEBUG - Attempting to write register at 2 with unit 1\n",
      "2024-12-27 08:45:16,853 - WenlenPLC - ERROR - Failed to write register: argument out of range\n",
      "2024-12-27 08:45:16,854 - WenlenPLC - DEBUG - Attempting to write register at 4 with unit 1\n",
      "2024-12-27 08:45:16,855 - WenlenPLC - INFO - Write register successful\n",
      "2024-12-27 08:45:16,855 - WenlenPLC - DEBUG - Attempting to write register at 5 with unit 1\n",
      "2024-12-27 08:45:16,856 - WenlenPLC - INFO - Write register successful\n",
      "2024-12-27 08:45:16,856 - WenlenPLC - DEBUG - Attempting to write register at 6 with unit 1\n",
      "2024-12-27 08:45:16,857 - WenlenPLC - INFO - Write register successful\n",
      "2024-12-27 08:45:16,857 - WenlenPLC - DEBUG - Attempting to write register at 7 with unit 1\n",
      "2024-12-27 08:45:16,859 - WenlenPLC - INFO - Write register successful\n",
      "2024-12-27 08:45:16,859 - WenlenPLC - DEBUG - Attempting to write register at 8 with unit 1\n",
      "2024-12-27 08:45:16,859 - WenlenPLC - ERROR - Failed to write register: argument out of range\n",
      "2024-12-27 08:45:16,860 - WenlenPLC - DEBUG - Attempting to write register at 10 with unit 1\n",
      "2024-12-27 08:45:16,860 - WenlenPLC - ERROR - Failed to write register: argument out of range\n",
      "2024-12-27 08:45:16,860 - WenlenPLC - DEBUG - Attempting to write register at 12 with unit 1\n",
      "2024-12-27 08:45:16,861 - WenlenPLC - ERROR - Failed to write register: argument out of range\n",
      "2024-12-27 08:45:16,861 - WenlenPLC - DEBUG - Attempting to write register at 14 with unit 1\n",
      "2024-12-27 08:45:16,861 - WenlenPLC - ERROR - Failed to write register: argument out of range\n",
      "2024-12-27 08:45:16,861 - WenlenPLC - INFO - Connection closed\n"
     ]
    },
    {
     "name": "stdout",
     "output_type": "stream",
     "text": [
      "Write Float Registers Success [0.0, 271.33, 648.36, 576.79, 654.62, 318.59, 35.73, 43.86]\n"
     ]
    }
   ],
   "source": [
    "import numpy as np\n",
    "\n",
    "# Conectar al PLC\n",
    "if plc.connect():\n",
    "    # Escribir valores booleanos (64 valores, true o false)\n",
    "    # Escribir valores booleanos (64 valores, true o false)\n",
    "    boolean_values = [\n",
    "        False, True, True, False, \n",
    "        True, True,  True, False, \n",
    "        True, False, True, False, \n",
    "        True, False, True, False, \n",
    "        True, False, True, False, \n",
    "        True, False, True, False, \n",
    "        True, False, True, False, \n",
    "        True, False, True, False,\n",
    "        False, True, True, False, \n",
    "        True, True,  True, False,\n",
    "        False, True, True, False, \n",
    "        True, True,  True, False, \n",
    "        False, True, True, False, \n",
    "        True, True,  True, False,  \n",
    "        False, True, True, False, \n",
    "        True, True,  True, False \n",
    "        ]\n",
    "    # write_success = plc.write_boolean_registers(start_reg=10001, values=boolean_values)\n",
    "    # print(\"Write Boolean Registers Success:\", write_success)\n",
    "    boolean_values = [True, False] * 32\n",
    "    plc.write_coils(start_reg=1, values=boolean_values)\n",
    "\n",
    "    # Escribir valores flotantes (8 valores)\n",
    "    float_values = [np.random.uniform(-1000, 1000) for _ in range(8)]\n",
    "    write_success_floats = all([plc.write_register(start_reg=0 + 2 * i, value=int(float_values[i])) and plc.write_register(start_reg=0 + 2 * i + 1, value=int((float_values[i] - int(float_values[i])) * 100)) for i in range(len(float_values))])\n",
    "    print(\"Write Float Registers Success\", float_registers)\n",
    "\n",
    "    # Cerrar la conexión\n",
    "    plc.close_connection()\n",
    "else:\n",
    "    print(\"Failed to connect to the PLC\")"
   ]
  }
 ],
 "metadata": {
  "kernelspec": {
   "display_name": ".venv",
   "language": "python",
   "name": "python3"
  },
  "language_info": {
   "codemirror_mode": {
    "name": "ipython",
    "version": 3
   },
   "file_extension": ".py",
   "mimetype": "text/x-python",
   "name": "python",
   "nbconvert_exporter": "python",
   "pygments_lexer": "ipython3",
   "version": "3.7.17"
  }
 },
 "nbformat": 4,
 "nbformat_minor": 2
}
