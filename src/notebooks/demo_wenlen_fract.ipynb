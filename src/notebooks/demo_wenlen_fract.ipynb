{
 "cells": [
  {
   "cell_type": "code",
   "execution_count": null,
   "metadata": {},
   "outputs": [],
   "source": []
  },
  {
   "cell_type": "code",
   "execution_count": 1,
   "metadata": {},
   "outputs": [],
   "source": [
    "import sys\n",
    "\n",
    "sys.path.append('../')\n",
    "\n",
    "from modbus_adv_toolbox.wenlen_plc import WenlenPLC\n"
   ]
  },
  {
   "cell_type": "code",
   "execution_count": 2,
   "metadata": {},
   "outputs": [],
   "source": [
    "# Crear una instancia de la clase WenlenPLC\n",
    "plc = WenlenPLC(ip_address='192.168.0.155', port=5020)"
   ]
  },
  {
   "cell_type": "code",
   "execution_count": 7,
   "metadata": {},
   "outputs": [
    {
     "name": "stderr",
     "output_type": "stream",
     "text": [
      "2024-09-21 21:32:50,135 - WenlenPLC - INFO - Connection successful\n",
      "2024-09-21 21:32:50,136 - WenlenPLC - DEBUG - Attempting to read 64 discrete inputs starting at 0 with unit 1\n",
      "2024-09-21 21:32:50,138 - WenlenPLC - DEBUG - Attempting to read 1 holding registers starting at 0 with unit 1\n",
      "2024-09-21 21:32:50,138 - WenlenPLC - DEBUG - Attempting to read 1 holding registers starting at 1 with unit 1\n",
      "2024-09-21 21:32:50,139 - WenlenPLC - DEBUG - Attempting to read 1 holding registers starting at 2 with unit 1\n",
      "2024-09-21 21:32:50,141 - WenlenPLC - DEBUG - Attempting to read 1 holding registers starting at 3 with unit 1\n",
      "2024-09-21 21:32:50,142 - WenlenPLC - DEBUG - Attempting to read 1 holding registers starting at 4 with unit 1\n",
      "2024-09-21 21:32:50,143 - WenlenPLC - DEBUG - Attempting to read 1 holding registers starting at 5 with unit 1\n",
      "2024-09-21 21:32:50,144 - WenlenPLC - DEBUG - Attempting to read 1 holding registers starting at 6 with unit 1\n",
      "2024-09-21 21:32:50,145 - WenlenPLC - DEBUG - Attempting to read 1 holding registers starting at 7 with unit 1\n",
      "2024-09-21 21:32:50,146 - WenlenPLC - DEBUG - Attempting to read 1 holding registers starting at 8 with unit 1\n",
      "2024-09-21 21:32:50,148 - WenlenPLC - DEBUG - Attempting to read 1 holding registers starting at 9 with unit 1\n",
      "2024-09-21 21:32:50,148 - WenlenPLC - DEBUG - Attempting to read 1 holding registers starting at 10 with unit 1\n",
      "2024-09-21 21:32:50,149 - WenlenPLC - DEBUG - Attempting to read 1 holding registers starting at 11 with unit 1\n",
      "2024-09-21 21:32:50,150 - WenlenPLC - DEBUG - Attempting to read 1 holding registers starting at 12 with unit 1\n",
      "2024-09-21 21:32:50,151 - WenlenPLC - DEBUG - Attempting to read 1 holding registers starting at 13 with unit 1\n",
      "2024-09-21 21:32:50,151 - WenlenPLC - DEBUG - Attempting to read 1 holding registers starting at 14 with unit 1\n",
      "2024-09-21 21:32:50,152 - WenlenPLC - DEBUG - Attempting to read 1 holding registers starting at 15 with unit 1\n",
      "2024-09-21 21:32:50,153 - WenlenPLC - INFO - Connection closed\n"
     ]
    },
    {
     "name": "stdout",
     "output_type": "stream",
     "text": [
      "total de registros:  64\n",
      "Boolean Registers (10001-40129): [False, False, False, False, False, False, False, False, False, False, False, False, False, False, False, False, False, False, False, False, False, False, False, False, False, False, False, False, False, False, False, False, False, False, False, False, False, False, False, False, False, False, False, False, False, False, False, False, False, False, False, False, False, False, False, False, False, False, False, False, False, False, False, False]\n",
      "total de registros:  8\n",
      "Float Registers (40001-40017): [0.0, 0.0, 0.0, 0.0, 0.0, 0.0, 0.0, 0.0]\n"
     ]
    }
   ],
   "source": [
    "plc.update_ip_and_port(new_ip_address='127.0.0.1', new_port=5020)\n",
    "\n",
    "registros_float = 8\n",
    "registros_boolean = 64\n",
    "\n",
    "# Conectar al PLC\n",
    "if plc.connect():\n",
    "    # Leer 32 registros booleanos a partir del registro 10001\n",
    "    boolean_registers = plc.read_boolean_registers(start_reg=10001, count=registros_boolean)\n",
    "    print(\"total de registros: \", len(boolean_registers))\n",
    "    print(f\"Boolean Registers (10001-{(40001+(2*registros_boolean))}):\", boolean_registers)\n",
    "    \n",
    "    # Leer 4 registros flotantes (8 registros de 16 bits) a partir del registro 40001\n",
    "    float_registers = plc.read_float_registers(start_reg=40001, count=registros_float)\n",
    "    print(\"total de registros: \", len(float_registers))\n",
    "    print(f\"Float Registers (40001-{(40001+(2*registros_float))}):\", float_registers)\n",
    "    \n",
    "    # Cerrar la conexión\n",
    "    plc.close_connection()\n",
    "else:\n",
    "    print(\"Failed to connect to the PLC\")\n"
   ]
  },
  {
   "cell_type": "code",
   "execution_count": 14,
   "metadata": {},
   "outputs": [
    {
     "name": "stderr",
     "output_type": "stream",
     "text": [
      "2024-07-05 09:33:32,173 - WenlenPLC - INFO - Connection successful\n",
      "2024-07-05 09:33:32,173 - WenlenPLC - DEBUG - Attempting to write discrete inputs starting at 10001 with unit 1\n",
      "2024-07-05 09:33:32,178 - WenlenPLC - INFO - Successfully wrote discrete inputs: [False, True, True, False, True, True, True, False, True, False, True, False, True, False, True, False, True, False, True, False, True, False, True, False, True, False, True, False, True, False, True, False]\n",
      "2024-07-05 09:33:32,179 - WenlenPLC - DEBUG - Attempting to write register at 0 with unit 1\n",
      "2024-07-05 09:33:32,182 - WenlenPLC - INFO - Write register successful\n",
      "2024-07-05 09:33:32,183 - WenlenPLC - DEBUG - Attempting to write register at 1 with unit 1\n",
      "2024-07-05 09:33:32,186 - WenlenPLC - INFO - Write register successful\n",
      "2024-07-05 09:33:32,186 - WenlenPLC - DEBUG - Attempting to write register at 2 with unit 1\n",
      "2024-07-05 09:33:32,190 - WenlenPLC - INFO - Write register successful\n",
      "2024-07-05 09:33:32,190 - WenlenPLC - DEBUG - Attempting to write register at 3 with unit 1\n",
      "2024-07-05 09:33:32,194 - WenlenPLC - INFO - Write register successful\n",
      "2024-07-05 09:33:32,194 - WenlenPLC - DEBUG - Attempting to write register at 4 with unit 1\n",
      "2024-07-05 09:33:32,198 - WenlenPLC - INFO - Write register successful\n",
      "2024-07-05 09:33:32,198 - WenlenPLC - DEBUG - Attempting to write register at 5 with unit 1\n",
      "2024-07-05 09:33:32,203 - WenlenPLC - INFO - Write register successful\n",
      "2024-07-05 09:33:32,204 - WenlenPLC - DEBUG - Attempting to write register at 6 with unit 1\n",
      "2024-07-05 09:33:32,208 - WenlenPLC - INFO - Write register successful\n",
      "2024-07-05 09:33:32,208 - WenlenPLC - DEBUG - Attempting to write register at 7 with unit 1\n",
      "2024-07-05 09:33:32,212 - WenlenPLC - INFO - Write register successful\n",
      "2024-07-05 09:33:32,212 - WenlenPLC - INFO - Connection closed\n"
     ]
    },
    {
     "name": "stdout",
     "output_type": "stream",
     "text": [
      "Write Boolean Registers Success: True\n",
      "Write Float Registers Success: True\n"
     ]
    }
   ],
   "source": [
    "# Conectar al PLC\n",
    "if plc.connect():\n",
    "    # Escribir valores booleanos (32 valores, true o false)\n",
    "    # Escribir valores booleanos (32 valores, true o false)\n",
    "    boolean_values = [False, True, True, False, True, True, True, False, True, False, True, False, True, False, True, False, True, False, True, False, True, False, True, False, True, False, True, False, True, False, True, False]\n",
    "    write_success = plc.write_discrete_inputs(start_reg=10001, values=boolean_values)\n",
    "    print(\"Write Boolean Registers Success:\", write_success)\n",
    "\n",
    "    # Escribir valores flotantes (4 valores)\n",
    "    float_values = [12.34, 56.78, 90.12, 34.56]\n",
    "    write_success_floats = all([plc.write_register(start_reg=0 + 2 * i, value=int(float_values[i])) and plc.write_register(start_reg=0 + 2 * i + 1, value=int((float_values[i] - int(float_values[i])) * 100)) for i in range(len(float_values))])\n",
    "    print(\"Write Float Registers Success:\", write_success_floats)\n",
    "\n",
    "    # Cerrar la conexión\n",
    "    plc.close_connection()\n",
    "else:\n",
    "    print(\"Failed to connect to the PLC\")"
   ]
  },
  {
   "cell_type": "code",
   "execution_count": null,
   "metadata": {},
   "outputs": [],
   "source": []
  }
 ],
 "metadata": {
  "kernelspec": {
   "display_name": ".venv",
   "language": "python",
   "name": "python3"
  },
  "language_info": {
   "codemirror_mode": {
    "name": "ipython",
    "version": 3
   },
   "file_extension": ".py",
   "mimetype": "text/x-python",
   "name": "python",
   "nbconvert_exporter": "python",
   "pygments_lexer": "ipython3",
   "version": "3.7.17"
  }
 },
 "nbformat": 4,
 "nbformat_minor": 2
}
