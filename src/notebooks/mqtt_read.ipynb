{
 "cells": [
  {
   "cell_type": "code",
   "execution_count": 1,
   "metadata": {},
   "outputs": [
    {
     "name": "stdout",
     "output_type": "stream",
     "text": [
      "Requirement already satisfied: paho-mqtt in /Users/marcossoto/Documents/projects/og-lv-meter/.venv/lib/python3.7/site-packages (2.1.0)\n"
     ]
    }
   ],
   "source": [
    "!pip install paho-mqtt\n"
   ]
  },
  {
   "cell_type": "code",
   "execution_count": null,
   "metadata": {},
   "outputs": [],
   "source": []
  },
  {
   "cell_type": "code",
   "execution_count": 7,
   "metadata": {},
   "outputs": [
    {
     "name": "stderr",
     "output_type": "stream",
     "text": [
      "/Users/marcossoto/Documents/projects/og-lv-meter/.venv/lib/python3.7/site-packages/ipykernel_launcher.py:16: DeprecationWarning: Callback API version 1 is deprecated, update to latest version\n",
      "  \n"
     ]
    },
    {
     "name": "stdout",
     "output_type": "stream",
     "text": [
      "Mensaje recibido: {'timestamp': '2024-07-06 18:58:19', 'variable1': 10.84252823591709, 'variable2': 144.96666185831631} en el tópico SCADAPack/474/Data\n"
     ]
    },
    {
     "data": {
      "text/plain": [
       "<MQTTErrorCode.MQTT_ERR_SUCCESS: 0>"
      ]
     },
     "execution_count": 7,
     "metadata": {},
     "output_type": "execute_result"
    }
   ],
   "source": [
    "import paho.mqtt.client as mqtt\n",
    "import time\n",
    "\n",
    "path = './data/mqtt_tmp/'\n",
    "\n",
    "# Función que se ejecuta cuando se recibe un mensaje\n",
    "def on_message(client, userdata, message):\n",
    "    filename = path + time.strftime(\"%Y%m%d-%H%M%S\") + '.json'\n",
    "    print(f\"Mensaje recibido: {message.payload.decode()} en el tópico {message.topic}\")\n",
    "    #save to json\n",
    "    with open(filename, 'w') as f:\n",
    "        f.write(message.payload.decode())\n",
    "\n",
    "# Configuración del cliente MQTT\n",
    "broker_address = \"broker.hivemq.com\"  # Usando un broker público para pruebas\n",
    "client = mqtt.Client()  # No especificamos client_id\n",
    "\n",
    "# Conexión al broker\n",
    "client.connect(broker_address, 1883, 60)\n",
    "\n",
    "# Configuración de la función de callback\n",
    "client.on_message = on_message\n",
    "\n",
    "# Suscripción al tópico\n",
    "client.subscribe(\"SCADAPack/474/Data\")\n",
    "\n",
    "# Inicia el loop para recibir mensajes\n",
    "client.loop_start()\n",
    "\n",
    "# Espera para recibir mensajes (puedes ajustar el tiempo según sea necesario)\n",
    "time.sleep(20)\n",
    "\n",
    "# Detiene el loop\n",
    "client.loop_stop()\n"
   ]
  }
 ],
 "metadata": {
  "kernelspec": {
   "display_name": ".venv",
   "language": "python",
   "name": "python3"
  },
  "language_info": {
   "codemirror_mode": {
    "name": "ipython",
    "version": 3
   },
   "file_extension": ".py",
   "mimetype": "text/x-python",
   "name": "python",
   "nbconvert_exporter": "python",
   "pygments_lexer": "ipython3",
   "version": "3.7.17"
  }
 },
 "nbformat": 4,
 "nbformat_minor": 2
}
