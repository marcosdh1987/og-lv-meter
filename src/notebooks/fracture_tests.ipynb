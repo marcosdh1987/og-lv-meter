{
 "cells": [
  {
   "cell_type": "code",
   "execution_count": 2,
   "metadata": {},
   "outputs": [],
   "source": [
    "_ = !pip install git+https://github.com/marcosdh1987/modbus_toolbox"
   ]
  },
  {
   "cell_type": "code",
   "execution_count": 1,
   "metadata": {},
   "outputs": [],
   "source": [
    "from modbus_toolbox.accutech import read_values as read_sch\n",
    "from modbus_toolbox.accutech import test_connection\n",
    "from modbus_toolbox.accutech import write_specific_register as write\n",
    "from modbus_toolbox.plc import read_plc_register"
   ]
  },
  {
   "cell_type": "code",
   "execution_count": 15,
   "metadata": {},
   "outputs": [],
   "source": [
    "ip_address1 = '192.168.0.239'\n",
    "d_port1 = 5020"
   ]
  },
  {
   "cell_type": "code",
   "execution_count": 5,
   "metadata": {},
   "outputs": [
    {
     "name": "stdout",
     "output_type": "stream",
     "text": [
      "[89.0, 1101.7900390625, 24.270000457763672, 1094.0, 103.0, 7.0, 1105.56005859375, 24.0, 1095.0, 108.0, 7.519999980926514, 98.0, 8.0, 0.0, 0.0, 0.0, 0.0, 0.0, 0.0, 0.0, 0.0, 0.0, 0.0, 0.0, 0.0, 0.0, 0.0, 0.0, 0.0, 0.0]\n"
     ]
    }
   ],
   "source": [
    "sch_data = read_sch(ip_address1, d_port1)\n",
    "print(sch_data)"
   ]
  },
  {
   "cell_type": "code",
   "execution_count": 17,
   "metadata": {},
   "outputs": [
    {
     "name": "stdout",
     "output_type": "stream",
     "text": [
      "[48.529998779296875, 1.0, 2.0, 3.0, 4.0, 0.0, 0.0, 0.0, 0.0, -11.0, 35.0, 5.0, 6.0, 7.0, 8.0, 5.0, 9.0, 10.0, 11.0, 12.0, 0.0, 0.0, 0.0, 0.0, 0.0, 0.0, 0.0, 0.0, 0.0, 0.0, 0.0, 0.0, 0.0, 0.0, 0.0, 0.0]\n"
     ]
    }
   ],
   "source": [
    "data = read_plc_register(ip_address1, d_port1, 1001)\n",
    "print(data)"
   ]
  },
  {
   "cell_type": "code",
   "execution_count": 19,
   "metadata": {},
   "outputs": [
    {
     "data": {
      "text/plain": [
       "[0.0, -10.65, 5.6, 7.8, 5.9, 10.11, 12.0, 0.0, 0.0, 0.0, 0.0, 0.0, 0.0]"
      ]
     },
     "execution_count": 19,
     "metadata": {},
     "output_type": "execute_result"
    }
   ],
   "source": [
    "REGS = {\"gasValve\": 51, \"oilValve\": 53, \"waterValve\": 55}\n",
    "# modbus variables\n",
    "START_REG = 15  # example start reg = 15 -> start at register holding register 40015\n",
    "END_REG = 110  # exmple end_reg = 110 -> end at register holding register 40119 (loop over 53 registers, range(0, 52 regs -> startreg = 40015, end_reg= 40015+(52*2)=40119)\n",
    "\n",
    "# array of registers from PLC 7 integers [0:8], 13 floats[7:33], 3 integers backup [33:36]\n",
    "INT_RANGE = [0, 7]\n",
    "FLOAT_RANGE = [7, 33]\n",
    "BCK_RANGE = [33, 36]\n",
    "\n",
    "\n",
    "def decimal_decode(data):\n",
    "    number = float(data[0]) + float(\"0.\" + str(int(data[1])))\n",
    "    return number\n",
    "\n",
    "def create_decimals(data, start, end):\n",
    "    decimals = []\n",
    "    for i in range(start, end, 2):\n",
    "        decimals.append(decimal_decode(data[i : i + 2]))\n",
    "    return decimals\n",
    "\n",
    "create_decimals(\n",
    "    data, FLOAT_RANGE[0], FLOAT_RANGE[1])\n",
    "\n",
    "# plc1 = data[INT_RANGE[0] : INT_RANGE[1]] + create_decimals(\n",
    "#     data, FLOAT_RANGE[0], FLOAT_RANGE[1]\n",
    "# )\n",
    "# plc2 = data[BCK_RANGE[0] : BCK_RANGE[1]]\n",
    "\n",
    "# print(plc2)"
   ]
  }
 ],
 "metadata": {
  "kernelspec": {
   "display_name": ".venv",
   "language": "python",
   "name": "python3"
  },
  "language_info": {
   "codemirror_mode": {
    "name": "ipython",
    "version": 3
   },
   "file_extension": ".py",
   "mimetype": "text/x-python",
   "name": "python",
   "nbconvert_exporter": "python",
   "pygments_lexer": "ipython3",
   "version": "3.11.4"
  }
 },
 "nbformat": 4,
 "nbformat_minor": 2
}
